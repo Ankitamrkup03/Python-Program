{
 "cells": [
  {
   "cell_type": "markdown",
   "metadata": {},
   "source": [
    "# DIFFERENT PROGRAMS:-"
   ]
  },
  {
   "cell_type": "markdown",
   "metadata": {},
   "source": [
    "# DISPLAY DATE AND TIMES"
   ]
  },
  {
   "cell_type": "code",
   "execution_count": 1,
   "metadata": {},
   "outputs": [
    {
     "name": "stdout",
     "output_type": "stream",
     "text": [
      "2020-11-28 10:48:25\n",
      "28/11/2020\n",
      "10:48:25 AM\n",
      "Sat, Nov 28, 2020\n"
     ]
    }
   ],
   "source": [
    "#display date and time\n",
    "import datetime\n",
    "\n",
    "e = datetime.datetime.now()\n",
    "\n",
    "print (e.strftime(\"%Y-%m-%d %H:%M:%S\"))\n",
    "\n",
    "print (e.strftime(\"%d/%m/%Y\"))\n",
    "\n",
    "print (e.strftime(\"%I:%M:%S %p\"))#h for hour and i show am and pm hour\n",
    "\n",
    "print (e.strftime(\"%a, %b %d, %Y\"))\n"
   ]
  },
  {
   "cell_type": "markdown",
   "metadata": {},
   "source": [
    "# AREA OF CIRCULE:-"
   ]
  },
  {
   "cell_type": "code",
   "execution_count": 2,
   "metadata": {},
   "outputs": [
    {
     "name": "stdout",
     "output_type": "stream",
     "text": [
      "enter the radious of the circle:-4\n",
      "area of circle is 50.24\n"
     ]
    }
   ],
   "source": [
    "import math\n",
    "r=float(input(\"enter the radious of the circle:-\"))\n",
    "Area=3.14*(r**2)\n",
    "print(\"area of circle is\",Area)"
   ]
  },
  {
   "cell_type": "markdown",
   "metadata": {},
   "source": [
    "# REVERSE IN STRING"
   ]
  },
  {
   "cell_type": "code",
   "execution_count": 3,
   "metadata": {},
   "outputs": [
    {
     "name": "stdout",
     "output_type": "stream",
     "text": [
      "first  name:- world\n",
      "last name hello\n"
     ]
    }
   ],
   "source": [
    "str=(\"hello\")\n",
    "str1=(\"world\")\n",
    "print(\"first  name:-\",str1+ \"\\nlast name\",str)"
   ]
  },
  {
   "cell_type": "markdown",
   "metadata": {},
   "source": [
    "# ADD TWO NOS"
   ]
  },
  {
   "cell_type": "code",
   "execution_count": null,
   "metadata": {},
   "outputs": [],
   "source": [
    "a=int(input(\"enter a first no\"))\n",
    "b=int(input(\"enter the second no\"))\n",
    "sum=a+b\n",
    "print('sum is:=',sum)"
   ]
  },
  {
   "cell_type": "markdown",
   "metadata": {},
   "source": [
    "# AVERAGE TWO NOS"
   ]
  },
  {
   "cell_type": "code",
   "execution_count": null,
   "metadata": {},
   "outputs": [],
   "source": [
    "numbers=input(\"enter  nos using space:-\")\n",
    "numberlist=numbers.split()\n",
    "print(\"all enter nos:\",numberlist)\n",
    "sum=0\n",
    "avg=0\n",
    "for num in numberlist:\n",
    "    sum+=int(num)\n",
    "avg=sum/len(numberlist)\n",
    "print(\"\\nsum of number=\",sum)\n",
    "print(\"\\n average of no=\",avg)"
   ]
  },
  {
   "cell_type": "markdown",
   "metadata": {},
   "source": [
    "# LEAP"
   ]
  },
  {
   "cell_type": "code",
   "execution_count": 14,
   "metadata": {},
   "outputs": [
    {
     "name": "stdout",
     "output_type": "stream",
     "text": [
      "enter a year24\n",
      "leap year 24\n"
     ]
    }
   ],
   "source": [
    "x=int(input(\"enter a year\"))\n",
    "if x%4==0 and x%100!=0:\n",
    "    print(\"leap year\",x)\n",
    "elif(x%100==0):\n",
    "    print(x,\"not leap year\")\n",
    "    \n",
    "elif(x%400==0):\n",
    "    print(x,\"is a leap year\")\n",
    "else:\n",
    "    print(x,\"not leap year\")"
   ]
  },
  {
   "cell_type": "code",
   "execution_count": 15,
   "metadata": {},
   "outputs": [
    {
     "name": "stdout",
     "output_type": "stream",
     "text": [
      "enter the no of rows: =4\n",
      "* \n",
      "* * \n",
      "* * * \n",
      "* * * * \n"
     ]
    }
   ],
   "source": [
    "num=int(input(\"enter the no of rows: =\"))\n",
    "for i in range(1,num+1):\n",
    "    for j in range(1,i+1):\n",
    "        print(\"*\",end=\" \")\n",
    "    print()\n"
   ]
  },
  {
   "cell_type": "code",
   "execution_count": 16,
   "metadata": {},
   "outputs": [
    {
     "name": "stdout",
     "output_type": "stream",
     "text": [
      "enter the no of rows: =5\n",
      "* \n",
      "* * * \n",
      "* * * * * \n",
      "* * * * * * * \n",
      "* * * * * * * * * \n"
     ]
    }
   ],
   "source": [
    "num=int(input(\"enter the no of rows: =\"))\n",
    "k=1\n",
    "for i in range(1,num+1):\n",
    "    for j in range(1,k+1):\n",
    "        print(\"*\",end=\" \")\n",
    "    k=k+2\n",
    "    print()"
   ]
  },
  {
   "cell_type": "markdown",
   "metadata": {},
   "source": [
    "# PRINT STRING AND TUPLE SEPARATED BY COMMA"
   ]
  },
  {
   "cell_type": "code",
   "execution_count": 4,
   "metadata": {},
   "outputs": [
    {
     "name": "stdout",
     "output_type": "stream",
     "text": [
      "enter the nos separated by comma34,78,91\n",
      "list ['34', '78', '91']\n"
     ]
    }
   ],
   "source": [
    "name=input(\"enter the nos separated by comma\")\n",
    "list=name.split(\",\")\n",
    "#tuple=tuple(list)\n",
    "print(\"list\",list)\n",
    "#print(\"tuple\",tuple)"
   ]
  },
  {
   "cell_type": "markdown",
   "metadata": {},
   "source": [
    "# AVERAGE OF NOS"
   ]
  },
  {
   "cell_type": "code",
   "execution_count": 7,
   "metadata": {},
   "outputs": [
    {
     "name": "stdout",
     "output_type": "stream",
     "text": [
      "enter  nos using space:-34 56 78 89\n",
      "all enter nos: ['34', '56', '78', '89']\n",
      "\n",
      "sum of number= 257\n",
      "\n",
      " average of no= 64.25\n"
     ]
    }
   ],
   "source": [
    "numbers=input(\"enter  nos using space:-\")\n",
    "numberlist=numbers.split()\n",
    "print(\"all enter nos:\",numberlist)\n",
    "sum=0\n",
    "avg=0\n",
    "for num in numberlist:\n",
    "    sum+=int(num)\n",
    "avg=sum/len(numberlist)\n",
    "print(\"\\nsum of number=\",sum)\n",
    "print(\"\\n average of no=\",avg)\n"
   ]
  },
  {
   "cell_type": "markdown",
   "metadata": {},
   "source": [
    "# FACTORIAL NOS:-"
   ]
  },
  {
   "cell_type": "code",
   "execution_count": 9,
   "metadata": {},
   "outputs": [
    {
     "name": "stdout",
     "output_type": "stream",
     "text": [
      "enter a no:-8\n",
      "factorial is 16777216\n"
     ]
    }
   ],
   "source": [
    "num=int(input(\"enter a no:-\"))\n",
    "fact=1\n",
    "if(num<0):\n",
    "    print(\"factorial does not exit\")\n",
    "elif(num==1):\n",
    "    printf(\"factorial is 1\")\n",
    "else:\n",
    "    for i in range(1,num+1):\n",
    "        fact=fact*num\n",
    "    \n",
    "print(\"factorial is\",fact)\n"
   ]
  },
  {
   "cell_type": "code",
   "execution_count": 10,
   "metadata": {},
   "outputs": [
    {
     "name": "stdout",
     "output_type": "stream",
     "text": [
      "Factorial of 5 is 120\n"
     ]
    }
   ],
   "source": [
    "def factorial(n): \n",
    "    if n < 0: \n",
    "        return 0\n",
    "    elif n == 0 or n == 1: \n",
    "        return 1\n",
    "    else: \n",
    "        fact = 1\n",
    "        while(n > 1): \n",
    "            fact *= n \n",
    "            n -= 1\n",
    "        return fact \n",
    "  \n",
    "# Driver Code \n",
    "num=5\n",
    "print(\"Factorial of\",num,\"is\", \n",
    "factorial(num)) "
   ]
  },
  {
   "cell_type": "markdown",
   "metadata": {},
   "source": [
    "# FIBONACIES SERIES"
   ]
  },
  {
   "cell_type": "code",
   "execution_count": 12,
   "metadata": {},
   "outputs": [
    {
     "name": "stdout",
     "output_type": "stream",
     "text": [
      "enter the terms:-4\n"
     ]
    }
   ],
   "source": [
    "n=int(input(\"enter the terms:-\"))\n",
    "a=0\n",
    "b=1\n",
    "count=0\n",
    "for i in range(0,a):\n",
    "    next=a+b\n",
    "    a=b\n",
    "    s=next\n",
    "    print(next,\"series\")\n",
    "    \n"
   ]
  },
  {
   "cell_type": "markdown",
   "metadata": {},
   "source": [
    "# FIND GREATEST NO AMONG 3 NO:-"
   ]
  },
  {
   "cell_type": "code",
   "execution_count": 13,
   "metadata": {},
   "outputs": [
    {
     "name": "stdout",
     "output_type": "stream",
     "text": [
      "enter first no34\n",
      "enter 2nd no67\n",
      "enetr 3rd no89\n",
      "3rd no is greater 89\n"
     ]
    }
   ],
   "source": [
    "a=int(input(\"enter first no\"))\n",
    "b=int(input(\"enter 2nd no\"))\n",
    "c=int(input(\"enetr 3rd no\"))\n",
    "\n",
    "if (a>b) and (a>c):\n",
    "    print(\"first great no\",a)\n",
    "elif (b>c) and (b>a):\n",
    "    print(\"second no is greater\",b)\n",
    "else:\n",
    "    print(\"3rd no is greater\",c)"
   ]
  },
  {
   "cell_type": "markdown",
   "metadata": {},
   "source": [
    "# PRINT EVEN NO IN THE RANGE:-"
   ]
  },
  {
   "cell_type": "code",
   "execution_count": 16,
   "metadata": {},
   "outputs": [
    {
     "name": "stdout",
     "output_type": "stream",
     "text": [
      "enter the nos11\n",
      "1 odd no\n",
      "2 even no\n",
      "3 odd no\n",
      "4 even no\n",
      "5 odd no\n",
      "6 even no\n",
      "7 odd no\n",
      "8 even no\n",
      "9 odd no\n",
      "10 even no\n",
      "11 odd no\n"
     ]
    }
   ],
   "source": [
    "#print even no in the range:-\n",
    "num=int(input(\"enter the nos\"))\n",
    "for i in range (1,num+1):\n",
    "    if (i%2)==0:\n",
    "        print(i,\"even no\")\n",
    "    else:\n",
    "        print(i,\"odd no\")\n"
   ]
  },
  {
   "cell_type": "code",
   "execution_count": 17,
   "metadata": {},
   "outputs": [
    {
     "name": "stdout",
     "output_type": "stream",
     "text": [
      "{'world'}\n"
     ]
    }
   ],
   "source": [
    "#compare between two lis:-\n",
    "list1=set([\"hello\",\"world\"])\n",
    "list2=set([\"hello\", \"hi\"])\n",
    "print(list1.difference(list2))"
   ]
  },
  {
   "cell_type": "markdown",
   "metadata": {},
   "source": [
    "# GCD"
   ]
  },
  {
   "cell_type": "code",
   "execution_count": 18,
   "metadata": {},
   "outputs": [
    {
     "name": "stdout",
     "output_type": "stream",
     "text": [
      "gcd is:- 16\n"
     ]
    }
   ],
   "source": [
    "#FIND GCD OR HCF\n",
    "import math\n",
    "print(\"gcd is:-\",math.gcd(48,16))\n"
   ]
  },
  {
   "cell_type": "markdown",
   "metadata": {},
   "source": [
    "# LCM"
   ]
  },
  {
   "cell_type": "code",
   "execution_count": 19,
   "metadata": {},
   "outputs": [
    {
     "name": "stdout",
     "output_type": "stream",
     "text": [
      "enter the 1st no45\n",
      "enter the 1st no12\n",
      "The L.C.M. is 180\n"
     ]
    }
   ],
   "source": [
    "#find LCM of 2nos\n",
    "\n",
    "def compute_lcm(x, y):\n",
    "\n",
    "   # choose the greater number\n",
    "   if x > y:\n",
    "       greater = x\n",
    "   else:\n",
    "       greater = y\n",
    "\n",
    "   while(True):\n",
    "       if((greater % x == 0) and (greater % y == 0)):\n",
    "           lcm = greater\n",
    "           break\n",
    "       greater += 1\n",
    "\n",
    "   return lcm\n",
    "\n",
    "num1=int(input(\"enter the 1st no\"))\n",
    "num2=int(input(\"enter the 1st no\"))\n",
    "\n",
    "print(\"The L.C.M. is\", compute_lcm(num1, num2))"
   ]
  },
  {
   "cell_type": "markdown",
   "metadata": {},
   "source": [
    "# PRIME NO"
   ]
  },
  {
   "cell_type": "code",
   "execution_count": 1,
   "metadata": {},
   "outputs": [
    {
     "name": "stdout",
     "output_type": "stream",
     "text": [
      "enter a no:-5\n",
      "enter a no:-11\n",
      "5 prime no\n",
      "6  is not prime no\n",
      "7 prime no\n",
      "8  is not prime no\n",
      "9  is not prime no\n",
      "10  is not prime no\n",
      "11 prime no\n"
     ]
    }
   ],
   "source": [
    "lower=int(input(\"enter a no:-\"))\n",
    "upper=int(input(\"enter a no:-\"))\n",
    "for num in range(lower,upper+1):#also include last value\n",
    "    if(num>1):\n",
    "        for i in range(2,num):\n",
    "            if(num%i)==0:\n",
    "                print(num,\" is not prime no\")\n",
    "                break\n",
    "        else:\n",
    "            print(num,\"prime no\")\n",
    "        "
   ]
  },
  {
   "cell_type": "markdown",
   "metadata": {},
   "source": [
    "# SIMPLE INTREST"
   ]
  },
  {
   "cell_type": "code",
   "execution_count": 2,
   "metadata": {},
   "outputs": [
    {
     "name": "stdout",
     "output_type": "stream",
     "text": [
      "Enter value of p:- 8\n",
      "Enter value of q:- 10\n",
      "Enter value of r:- 12\n",
      "\n",
      " The simple intrest is:- 9.6\n"
     ]
    }
   ],
   "source": [
    "def simpleintrest(p,t,r):\n",
    "    print(\"Enter value of p:-\",p)\n",
    "    print(\"Enter value of q:-\",t)\n",
    "    print(\"Enter value of r:-\",r)\n",
    "    \n",
    "    s=(p*t*r)/100\n",
    "    \n",
    "    print(\"\\n The simple intrest is:-\",s)\n",
    "    \n",
    "\n",
    "simpleintrest(8,10,12)"
   ]
  },
  {
   "cell_type": "markdown",
   "metadata": {},
   "source": [
    "# ARMSTRONG"
   ]
  },
  {
   "cell_type": "code",
   "execution_count": 4,
   "metadata": {},
   "outputs": [
    {
     "name": "stdout",
     "output_type": "stream",
     "text": [
      "enter a no:-26\n",
      "not amstrong 26\n"
     ]
    }
   ],
   "source": [
    "num=int(input(\"enter a no:-\"))\n",
    "temp=num\n",
    "result=0\n",
    "length=len(str(num))# we have to convert the int to string, because len can't be find out in interger\n",
    "while(temp!=0):\n",
    "    module=temp%10\n",
    "    result=result+module**length\n",
    "    temp//=10\n",
    "if(num==result):\n",
    "    print(\"amstrong no\",num)\n",
    "else:\n",
    "    print(\"not amstrong\",num)\n"
   ]
  },
  {
   "cell_type": "markdown",
   "metadata": {},
   "source": [
    "# ARRAY CONCEPT"
   ]
  },
  {
   "cell_type": "code",
   "execution_count": 20,
   "metadata": {},
   "outputs": [
    {
     "name": "stdout",
     "output_type": "stream",
     "text": [
      "10\n",
      "20\n",
      "30\n",
      "40\n",
      "50\n"
     ]
    }
   ],
   "source": [
    "#Accessing array using for loop\n",
    "from array import *\n",
    "st=array(\"i\",[10,20,30,40,50])\n",
    "for i in st:\n",
    "    print(i)"
   ]
  },
  {
   "cell_type": "code",
   "execution_count": 21,
   "metadata": {},
   "outputs": [
    {
     "name": "stdout",
     "output_type": "stream",
     "text": [
      "10\n",
      "20\n",
      "30\n"
     ]
    }
   ],
   "source": [
    "#accessing array using range function\n",
    "from array import*\n",
    "a=array(\"i\",[10,20,30])\n",
    "n=len(a)\n",
    "for i in range(n):\n",
    "    print(a[i])"
   ]
  },
  {
   "cell_type": "code",
   "execution_count": 22,
   "metadata": {},
   "outputs": [
    {
     "name": "stdout",
     "output_type": "stream",
     "text": [
      "10\n",
      "20\n",
      "30\n"
     ]
    }
   ],
   "source": [
    "#accessing array using while loop\n",
    "from array import *\n",
    "a=array(\"i\",[10,20,30])\n",
    "n=len(a)\n",
    "i=0\n",
    "while (i<n):\n",
    "     print(a[i])\n",
    "     i=i+1\n",
    "    "
   ]
  },
  {
   "cell_type": "markdown",
   "metadata": {},
   "source": [
    "# ADD NOS"
   ]
  },
  {
   "cell_type": "code",
   "execution_count": 23,
   "metadata": {},
   "outputs": [
    {
     "name": "stdout",
     "output_type": "stream",
     "text": [
      "10\n",
      "20\n",
      "30\n",
      "60\n"
     ]
    }
   ],
   "source": [
    "#append method in array\n",
    "from array import *\n",
    "a=array(\"i\",[10,20,30])\n",
    "a.append(60)\n",
    "ap=len(a)\n",
    "for i in range(ap):\n",
    "    print(a[i])\n"
   ]
  },
  {
   "cell_type": "code",
   "execution_count": 24,
   "metadata": {},
   "outputs": [
    {
     "name": "stdout",
     "output_type": "stream",
     "text": [
      "100\n",
      "120\n",
      "130\n"
     ]
    }
   ],
   "source": [
    "#accessing array using numpy\n",
    "import numpy as np\n",
    "a=np.array([100,120,130])\n",
    "for i in a:\n",
    "    print(i)"
   ]
  },
  {
   "cell_type": "code",
   "execution_count": 26,
   "metadata": {},
   "outputs": [
    {
     "name": "stdout",
     "output_type": "stream",
     "text": [
      "enter nos:34,89,67\n",
      "[34. 89. 67.]\n"
     ]
    }
   ],
   "source": [
    "#append\n",
    "import numpy as np\n",
    "a=np.array([])\n",
    "b=np.append(a,eval(input(\"enter nos:\")))\n",
    "print(b)\n"
   ]
  },
  {
   "cell_type": "code",
   "execution_count": 32,
   "metadata": {},
   "outputs": [
    {
     "name": "stdout",
     "output_type": "stream",
     "text": [
      "Current Numbers List [1, 2, 3, 4, 5]\n",
      "Please enter a number to be added:\n",
      "34\n",
      "Enter the index between 0 and 4 to add the given number:\n",
      "2\n",
      "Updated List [1, 2, 34, 3, 4, 5]\n"
     ]
    }
   ],
   "source": [
    "#insert\n",
    "my_input = [1, 2, 3, 4, 5]\n",
    " \n",
    "print(f'Current Numbers List {my_input}')\n",
    " \n",
    "number = int(input(\"Please enter a number to be added:\\n\"))\n",
    " \n",
    "index = int(input(f'Enter the index between 0 and {len(my_input) - 1} to add the given number:\\n'))\n",
    " \n",
    "my_input.insert(index, number)\n",
    " \n",
    "print(f'Updated List {my_input}')"
   ]
  },
  {
   "cell_type": "code",
   "execution_count": 33,
   "metadata": {},
   "outputs": [
    {
     "name": "stdout",
     "output_type": "stream",
     "text": [
      "array('i', [10, 20, 20, 30])\n",
      "array('i', [10, 20, 40])\n",
      "array('i', [10, 20, 40, 20, 30])\n",
      "array('i', [10, 70, 20, 40, 20, 30])\n"
     ]
    }
   ],
   "source": [
    "\n",
    "from array import *\n",
    "a=array('i',[10,20])\n",
    "b=array('i',[20,30])\n",
    "c=a+b\n",
    "print(c)\n",
    "a.append(40)\n",
    "print(a)\n",
    "a.extend(b)\n",
    "print(a)\n",
    "a.insert(1,70)\n",
    "print(a)"
   ]
  },
  {
   "cell_type": "markdown",
   "metadata": {},
   "source": [
    "# DELETE VALUES"
   ]
  },
  {
   "cell_type": "code",
   "execution_count": 34,
   "metadata": {},
   "outputs": [
    {
     "name": "stdout",
     "output_type": "stream",
     "text": [
      "array('i', [10, 20, 30, 40])\n",
      "array('i', [10, 20, 40])\n"
     ]
    }
   ],
   "source": [
    "#POP\n",
    "from array import *\n",
    "a=array('i',[10,20,30,40,50])\n",
    "a.pop() #REMOVE LAST VALUE BY DEFAULT\n",
    "print(a)\n",
    "a.pop(2) #REMOVE THE INDEX VALUE WHICH IS GIVEN\n",
    "print(a)\n"
   ]
  },
  {
   "cell_type": "code",
   "execution_count": 1,
   "metadata": {},
   "outputs": [
    {
     "name": "stdout",
     "output_type": "stream",
     "text": [
      "array('i', [20, 30, 40, 50, 10])\n"
     ]
    }
   ],
   "source": [
    "#REMOVE\n",
    "from array import *\n",
    "a=array('i',[10,20,30,40,50,10])\n",
    "a.remove(10) #REMOVE fFIRST VALUE BY DEFAULT\n",
    "print(a)\n"
   ]
  },
  {
   "cell_type": "code",
   "execution_count": null,
   "metadata": {},
   "outputs": [],
   "source": []
  }
 ],
 "metadata": {
  "kernelspec": {
   "display_name": "Python 3",
   "language": "python",
   "name": "python3"
  },
  "language_info": {
   "codemirror_mode": {
    "name": "ipython",
    "version": 3
   },
   "file_extension": ".py",
   "mimetype": "text/x-python",
   "name": "python",
   "nbconvert_exporter": "python",
   "pygments_lexer": "ipython3",
   "version": "3.7.4"
  }
 },
 "nbformat": 4,
 "nbformat_minor": 2
}
